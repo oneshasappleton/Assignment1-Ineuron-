{
 "cells": [
  {
   "cell_type": "code",
   "execution_count": null,
   "source": [
    "# Assigment 1 INeuron "
   ],
   "outputs": [],
   "metadata": {}
  },
  {
   "cell_type": "code",
   "execution_count": null,
   "source": [
    "# In the below elements which of them are values or an expression? eg:- values can be integer or string and expressions will be mathematical operators\r\n",
    " *                                 -  expression \r\n",
    "'hello'                            -  value\r\n",
    "-87.8                              -  value\r\n",
    "-                                  - expression \r\n",
    "/                                  - expression \r\n",
    "+\t                               - expression \r\n",
    "6                                  - value "
   ],
   "outputs": [],
   "metadata": {}
  },
  {
   "cell_type": "code",
   "execution_count": 9,
   "source": [
    "#  What is the difference between string and variable ?\r\n",
    "# Answer: A string is a combination of one or more characters within double or single quotes while a variable is a container in which a value is stored. "
   ],
   "outputs": [],
   "metadata": {}
  },
  {
   "cell_type": "code",
   "execution_count": null,
   "source": [
    "# Describe three different data types.\r\n",
    "# Answer: The three data types such as string, integer and float. String is a combination of more than one characters enclosed by a quote \r\n",
    "# (single quotes or double quotes). While an Integer is just numbers without a decimal place while a float is number with a decimal place.\r\n"
   ],
   "outputs": [],
   "metadata": {}
  },
  {
   "cell_type": "code",
   "execution_count": null,
   "source": [
    "#  What is an expression made up of? What do all expressions do?\r\n",
    "# An expression is made up of identifier, literal and an operator. All expressions are contained in a statement and when evaluated will give the output of an expression."
   ],
   "outputs": [],
   "metadata": {}
  },
  {
   "cell_type": "code",
   "execution_count": null,
   "source": [
    "# An expression does not necessarily have to produce an output while a statement will give an output."
   ],
   "outputs": [],
   "metadata": {}
  },
  {
   "cell_type": "code",
   "execution_count": 10,
   "source": [
    "# After running the following code, what does the variable bacon contain?\r\n",
    "bacon = 22\r\n",
    "bacon + 1\r\n",
    "\r\n",
    "#After running the above code bacon will be incremented by 1 and will now be 23.\r\n"
   ],
   "outputs": [
    {
     "output_type": "execute_result",
     "data": {
      "text/plain": [
       "23"
      ]
     },
     "metadata": {},
     "execution_count": 10
    }
   ],
   "metadata": {}
  },
  {
   "cell_type": "code",
   "execution_count": 19,
   "source": [
    "# What should the values of the following two terms be?\r\n",
    "print('spam' + 'spamspam')  # this produces spamspamspam\r\n",
    "print('spam' * 3)   # this produces spamspamspam"
   ],
   "outputs": [
    {
     "output_type": "stream",
     "name": "stdout",
     "text": [
      "spamspamspam\n",
      "spamspamspam\n"
     ]
    }
   ],
   "metadata": {
    "scrolled": true
   }
  },
  {
   "cell_type": "code",
   "execution_count": null,
   "source": [
    "#  Why is eggs a valid variable name while 100 is invalid?\r\n",
    "# Because variable names cannot start with numbers."
   ],
   "outputs": [],
   "metadata": {}
  },
  {
   "cell_type": "code",
   "execution_count": null,
   "source": [
    "# What three functions can be used to get the integer, floating-point number, or string version of a value? \r\n",
    "# Int( ) , str( ), float( )"
   ],
   "outputs": [],
   "metadata": {}
  },
  {
   "cell_type": "code",
   "execution_count": null,
   "source": [
    "# Why does this expression cause an error? How can you fix it?\r\n",
    "# This gave an error because you can only concatenate string with a string, not string with an integer. "
   ],
   "outputs": [],
   "metadata": {}
  },
  {
   "cell_type": "code",
   "execution_count": 23,
   "source": [
    "  %notebook \"C:\\Users\\os605342\\OneDrive - Digicel Caribbean Ltd\\Desktop\\Assignments.ipynb\"    "
   ],
   "outputs": [],
   "metadata": {}
  }
 ],
 "metadata": {
  "kernelspec": {
   "display_name": "Python 3",
   "language": "python",
   "name": "python3"
  },
  "language_info": {
   "codemirror_mode": {
    "name": "ipython",
    "version": 3
   },
   "file_extension": ".py",
   "mimetype": "text/x-python",
   "name": "python",
   "nbconvert_exporter": "python",
   "pygments_lexer": "ipython3",
   "version": "3.8.8"
  }
 },
 "nbformat": 4,
 "nbformat_minor": 5
}